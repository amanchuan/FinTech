{
 "cells": [
  {
   "cell_type": "code",
   "execution_count": 1,
   "metadata": {},
   "outputs": [],
   "source": [
    "import pandas as pd\n",
    "import numpy as np\n",
    "import toad\n",
    "import warnings\n",
    "warnings.filterwarnings(\"ignore\")\n",
    "from utils.blocks import build_train_test,build_metrics"
   ]
  },
  {
   "cell_type": "code",
   "execution_count": 73,
   "metadata": {},
   "outputs": [],
   "source": [
    "# build data\n",
    "np.random.seed(20211201)\n",
    "d1 = np.arange(100).tolist()\n",
    "np.random.shuffle(d1)\n",
    "d1[88] = np.nan\n",
    "d3 = np.random.choice(list('abcdefghijklmnopqrst'), size=100).tolist()\n",
    "d3[67:75] = [np.nan]*len(d3[67:75])\n",
    "data_dict = {\n",
    "    'col1': d1,\n",
    "    'col2': [ round(i, 0) for i in np.random.uniform(18, 55, size=100).tolist()],\n",
    "    'col3': d3,\n",
    "    'col4': np.random.choice(['sc', 'cq', 'gz', 'sx','ah','fj','gz','bj','sh','tj','hb','jx','gx','hn'], size=100).tolist(),\n",
    "    'target': np.random.choice([0,1], size=100).tolist()\n",
    "}\n",
    "\n",
    "# data = pd.DataFrame(data_dict).to_numpy()\n",
    "# x_data, y_data = data[:, :4], data[:, 4]\n",
    "data = pd.DataFrame(data_dict)\n",
    "x_data, y_data = data.iloc[:, :4], data.iloc[:, 4]\n",
    "train_test = build_train_test(data)\n",
    "train_index, test_index = next(train_test)\n",
    "x_train, y_train = x_data.iloc[train_index.tolist(), :], y_data[train_index.tolist()]\n",
    "x_test, y_test = x_data.iloc[test_index.tolist(), :], y_data[test_index.tolist()]"
   ]
  },
  {
   "cell_type": "code",
   "execution_count": 77,
   "metadata": {},
   "outputs": [
    {
     "name": "stdout",
     "output_type": "stream",
     "text": [
      "        col1      col2      col3      col4  target\n",
      "92  0.014599 -0.208545  0.014599 -0.390866       1\n",
      "28 -1.084013 -0.390866  0.995428  0.397591       0\n",
      "37 -1.712622 -0.614010  0.014599 -1.307157       0\n",
      "83  0.079137  0.707746 -0.653231 -1.307157       0\n",
      "3  -1.712622 -0.208545  0.995428 -0.796331       0\n"
     ]
    }
   ],
   "source": [
    "train_data = pd.concat([x_train, y_train], axis=1)\n",
    "c = toad.transform.Combiner()\n",
    "c.fit(train_data, y='target', method='dt')\n",
    "\n",
    "transer = toad.transform.WOETransformer()\n",
    "\n",
    "train_woe = transer.fit_transform(c.transform(train_data), train_data['target'], exclude=['target'])\n",
    "print(train_woe.head())"
   ]
  },
  {
   "cell_type": "code",
   "execution_count": 75,
   "metadata": {},
   "outputs": [],
   "source": [
    "# from toad.plot import bin_plot\n",
    "\n",
    "# col = 'col1'\n",
    "# bin_plot(c.transform(data[[col,'target']], labels=True), x=col, target='target')"
   ]
  },
  {
   "cell_type": "code",
   "execution_count": 80,
   "metadata": {},
   "outputs": [
    {
     "data": {
      "text/plain": [
       "ScoreCard(combiner=<toad.transform.Combiner object at 0x7f8f5faecd10>,\n",
       "          transer=<toad.transform.WOETransformer object at 0x7f8f5d258890>)"
      ]
     },
     "execution_count": 80,
     "metadata": {},
     "output_type": "execute_result"
    }
   ],
   "source": [
    "card = toad.ScoreCard(\n",
    "    combiner = c,\n",
    "    transer = transer,\n",
    "    #class_weight = 'balanced',\n",
    "    #C=0.1,\n",
    "    #base_score = 600,\n",
    "    #base_odds = 35 ,\n",
    "    #pdo = 60,\n",
    "    #rate = 2\n",
    ")\n",
    "\n",
    "card.fit(train_woe.iloc[:, :4], train_woe['target'])"
   ]
  },
  {
   "cell_type": "code",
   "execution_count": 79,
   "metadata": {},
   "outputs": [
    {
     "data": {
      "text/plain": [
       "ScoreCard(combiner=<toad.transform.Combiner object at 0x7f8f5faecd10>,\n",
       "          transer=<toad.transform.WOETransformer object at 0x7f8f5d258890>)"
      ]
     },
     "execution_count": 79,
     "metadata": {},
     "output_type": "execute_result"
    }
   ],
   "source": [
    "card"
   ]
  },
  {
   "cell_type": "code",
   "execution_count": 81,
   "metadata": {},
   "outputs": [
    {
     "data": {
      "text/plain": [
       "(array([0, 1]), array([5, 7]))"
      ]
     },
     "execution_count": 81,
     "metadata": {},
     "output_type": "execute_result"
    }
   ],
   "source": [
    "import numpy as np\n",
    "\n",
    "np.unique([0,0,0,1,1,0,1,1,1,1,1,0], return_counts=True)"
   ]
  }
 ],
 "metadata": {
  "interpreter": {
   "hash": "8f05fe817d27a15915a9ae17195578025fc7f07e10272b40a56d4a7fc1921aee"
  },
  "kernelspec": {
   "display_name": "Python 3.7.7 64-bit ('python37': conda)",
   "language": "python",
   "name": "python3"
  },
  "language_info": {
   "codemirror_mode": {
    "name": "ipython",
    "version": 3
   },
   "file_extension": ".py",
   "mimetype": "text/x-python",
   "name": "python",
   "nbconvert_exporter": "python",
   "pygments_lexer": "ipython3",
   "version": "3.7.7"
  },
  "orig_nbformat": 4
 },
 "nbformat": 4,
 "nbformat_minor": 2
}
