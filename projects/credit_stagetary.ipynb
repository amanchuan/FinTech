{
 "cells": [
  {
   "cell_type": "code",
   "execution_count": 1,
   "metadata": {},
   "outputs": [],
   "source": [
    "# global config\n",
    "\n",
    "import os\n",
    "import sys\n",
    "\n",
    "parentdir = os.path.dirname(os.getcwd())\n",
    "sys.path.insert(0, parentdir)\n",
    "\n",
    "to_dir = '../data/german/'\n",
    "if not os.path.exists(to_dir):\n",
    "    os.makedirs(to_dir)"
   ]
  },
  {
   "cell_type": "code",
   "execution_count": 2,
   "metadata": {},
   "outputs": [],
   "source": [
    "import numpy as np\n",
    "import pandas as pd\n",
    "import warnings\n",
    "warnings.filterwarnings('ignore')\n",
    "import gc\n",
    "import joblib\n",
    "from utils.func import timer\n",
    "from eda.desc_stats import show_desc\n",
    "from eda.feature_select import feature_select\n",
    "from eda.data_preprocess import capping\n",
    "from model.auto_model_classify import AutoMachineLearning\n",
    "\n",
    "from sklearn.tree import DecisionTreeClassifier\n",
    "from sklearn.model_selection import KFold\n",
    "\n",
    "from utils.func import setRandomSeed\n",
    "setRandomSeed(2022)\n",
    "\n",
    "%load_ext autoreload\n",
    "%autoreload 2"
   ]
  },
  {
   "cell_type": "code",
   "execution_count": 3,
   "metadata": {},
   "outputs": [
    {
     "name": "stdout",
     "output_type": "stream",
     "text": [
      "原始数据集： (1000, 21)\n",
      "重复行数： 0\n",
      "去重后数据集： (1000, 21)\n",
      "包含空值的字段个数： 0\n",
      "数据类型分布： {dtype('int64'): 8, dtype('O'): 13}\n",
      "0    0.7\n",
      "1    0.3\n",
      "Name: target, dtype: float64\n"
     ]
    },
    {
     "data": {
      "text/html": [
       "<div>\n",
       "<style scoped>\n",
       "    .dataframe tbody tr th:only-of-type {\n",
       "        vertical-align: middle;\n",
       "    }\n",
       "\n",
       "    .dataframe tbody tr th {\n",
       "        vertical-align: top;\n",
       "    }\n",
       "\n",
       "    .dataframe thead th {\n",
       "        text-align: right;\n",
       "    }\n",
       "</style>\n",
       "<table border=\"1\" class=\"dataframe\">\n",
       "  <thead>\n",
       "    <tr style=\"text-align: right;\">\n",
       "      <th></th>\n",
       "      <th>status_account</th>\n",
       "      <th>duration</th>\n",
       "      <th>credit_history</th>\n",
       "      <th>purpose</th>\n",
       "      <th>amount</th>\n",
       "      <th>svaing_account</th>\n",
       "      <th>present_emp</th>\n",
       "      <th>income_rate</th>\n",
       "      <th>personal_status</th>\n",
       "      <th>other_debtors</th>\n",
       "      <th>...</th>\n",
       "      <th>property</th>\n",
       "      <th>age</th>\n",
       "      <th>inst_plans</th>\n",
       "      <th>housing</th>\n",
       "      <th>num_credits</th>\n",
       "      <th>job</th>\n",
       "      <th>dependents</th>\n",
       "      <th>telephone</th>\n",
       "      <th>foreign_worker</th>\n",
       "      <th>target</th>\n",
       "    </tr>\n",
       "  </thead>\n",
       "  <tbody>\n",
       "    <tr>\n",
       "      <th>0</th>\n",
       "      <td>A11</td>\n",
       "      <td>6</td>\n",
       "      <td>A34</td>\n",
       "      <td>A43</td>\n",
       "      <td>1169</td>\n",
       "      <td>A65</td>\n",
       "      <td>A75</td>\n",
       "      <td>4</td>\n",
       "      <td>A93</td>\n",
       "      <td>A101</td>\n",
       "      <td>...</td>\n",
       "      <td>A121</td>\n",
       "      <td>67</td>\n",
       "      <td>A143</td>\n",
       "      <td>A152</td>\n",
       "      <td>2</td>\n",
       "      <td>A173</td>\n",
       "      <td>1</td>\n",
       "      <td>A192</td>\n",
       "      <td>A201</td>\n",
       "      <td>0</td>\n",
       "    </tr>\n",
       "    <tr>\n",
       "      <th>1</th>\n",
       "      <td>A12</td>\n",
       "      <td>48</td>\n",
       "      <td>A32</td>\n",
       "      <td>A43</td>\n",
       "      <td>5951</td>\n",
       "      <td>A61</td>\n",
       "      <td>A73</td>\n",
       "      <td>2</td>\n",
       "      <td>A92</td>\n",
       "      <td>A101</td>\n",
       "      <td>...</td>\n",
       "      <td>A121</td>\n",
       "      <td>22</td>\n",
       "      <td>A143</td>\n",
       "      <td>A152</td>\n",
       "      <td>1</td>\n",
       "      <td>A173</td>\n",
       "      <td>1</td>\n",
       "      <td>A191</td>\n",
       "      <td>A201</td>\n",
       "      <td>1</td>\n",
       "    </tr>\n",
       "    <tr>\n",
       "      <th>2</th>\n",
       "      <td>A14</td>\n",
       "      <td>12</td>\n",
       "      <td>A34</td>\n",
       "      <td>A46</td>\n",
       "      <td>2096</td>\n",
       "      <td>A61</td>\n",
       "      <td>A74</td>\n",
       "      <td>2</td>\n",
       "      <td>A93</td>\n",
       "      <td>A101</td>\n",
       "      <td>...</td>\n",
       "      <td>A121</td>\n",
       "      <td>49</td>\n",
       "      <td>A143</td>\n",
       "      <td>A152</td>\n",
       "      <td>1</td>\n",
       "      <td>A172</td>\n",
       "      <td>2</td>\n",
       "      <td>A191</td>\n",
       "      <td>A201</td>\n",
       "      <td>0</td>\n",
       "    </tr>\n",
       "    <tr>\n",
       "      <th>3</th>\n",
       "      <td>A11</td>\n",
       "      <td>42</td>\n",
       "      <td>A32</td>\n",
       "      <td>A42</td>\n",
       "      <td>7882</td>\n",
       "      <td>A61</td>\n",
       "      <td>A74</td>\n",
       "      <td>2</td>\n",
       "      <td>A93</td>\n",
       "      <td>A103</td>\n",
       "      <td>...</td>\n",
       "      <td>A122</td>\n",
       "      <td>45</td>\n",
       "      <td>A143</td>\n",
       "      <td>A153</td>\n",
       "      <td>1</td>\n",
       "      <td>A173</td>\n",
       "      <td>2</td>\n",
       "      <td>A191</td>\n",
       "      <td>A201</td>\n",
       "      <td>0</td>\n",
       "    </tr>\n",
       "    <tr>\n",
       "      <th>4</th>\n",
       "      <td>A11</td>\n",
       "      <td>24</td>\n",
       "      <td>A33</td>\n",
       "      <td>A40</td>\n",
       "      <td>4870</td>\n",
       "      <td>A61</td>\n",
       "      <td>A73</td>\n",
       "      <td>3</td>\n",
       "      <td>A93</td>\n",
       "      <td>A101</td>\n",
       "      <td>...</td>\n",
       "      <td>A124</td>\n",
       "      <td>53</td>\n",
       "      <td>A143</td>\n",
       "      <td>A153</td>\n",
       "      <td>2</td>\n",
       "      <td>A173</td>\n",
       "      <td>2</td>\n",
       "      <td>A191</td>\n",
       "      <td>A201</td>\n",
       "      <td>1</td>\n",
       "    </tr>\n",
       "  </tbody>\n",
       "</table>\n",
       "<p>5 rows × 21 columns</p>\n",
       "</div>"
      ],
      "text/plain": [
       "  status_account  duration credit_history purpose  amount svaing_account  \\\n",
       "0            A11         6            A34     A43    1169            A65   \n",
       "1            A12        48            A32     A43    5951            A61   \n",
       "2            A14        12            A34     A46    2096            A61   \n",
       "3            A11        42            A32     A42    7882            A61   \n",
       "4            A11        24            A33     A40    4870            A61   \n",
       "\n",
       "  present_emp  income_rate personal_status other_debtors  ...  property age  \\\n",
       "0         A75            4             A93          A101  ...      A121  67   \n",
       "1         A73            2             A92          A101  ...      A121  22   \n",
       "2         A74            2             A93          A101  ...      A121  49   \n",
       "3         A74            2             A93          A103  ...      A122  45   \n",
       "4         A73            3             A93          A101  ...      A124  53   \n",
       "\n",
       "   inst_plans housing num_credits   job dependents  telephone foreign_worker  \\\n",
       "0        A143    A152           2  A173          1       A192           A201   \n",
       "1        A143    A152           1  A173          1       A191           A201   \n",
       "2        A143    A152           1  A172          2       A191           A201   \n",
       "3        A143    A153           1  A173          2       A191           A201   \n",
       "4        A143    A153           2  A173          2       A191           A201   \n",
       "\n",
       "  target  \n",
       "0      0  \n",
       "1      1  \n",
       "2      0  \n",
       "3      0  \n",
       "4      1  \n",
       "\n",
       "[5 rows x 21 columns]"
      ]
     },
     "execution_count": 3,
     "metadata": {},
     "output_type": "execute_result"
    }
   ],
   "source": [
    "# load data from hive\n",
    "\n",
    "base_data = pd.read_csv(to_dir+'german.csv', delim_whitespace = True, header = None)\n",
    "base_data.columns = ['status_account','duration','credit_history','purpose', 'amount',\n",
    "            'svaing_account', 'present_emp', 'income_rate', 'personal_status',\n",
    "            'other_debtors', 'residence_info', 'property', 'age',\n",
    "            'inst_plans', 'housing', 'num_credits',\n",
    "            'job', 'dependents', 'telephone', 'foreign_worker', 'target']\n",
    "base_data.target = base_data.target - 1\n",
    "show_desc(base_data, detail=False)\n",
    "print(base_data['target'].value_counts()/base_data['target'].value_counts().sum())\n",
    "base_data.head()"
   ]
  },
  {
   "cell_type": "code",
   "execution_count": 4,
   "metadata": {},
   "outputs": [
    {
     "name": "stdout",
     "output_type": "stream",
     "text": [
      "(1000, 21)\n",
      "0    0.7\n",
      "1    0.3\n",
      "Name: target, dtype: float64\n",
      "原始数据集： (1000, 21)\n",
      "重复行数： 0\n",
      "去重后数据集： (1000, 21)\n",
      "包含空值的字段个数： 0\n",
      "数据类型分布： {dtype('int64'): 8, dtype('O'): 13}\n"
     ]
    }
   ],
   "source": [
    "THE_EMPTY_FLAG = [np.nan, 'null', 'NULL', -999, '-999', 9999, -9998]\n",
    "TO_EMPTY_STATUS = np.nan\n",
    "base_data.replace(THE_EMPTY_FLAG, TO_EMPTY_STATUS, inplace=True) # preprocess1: 统一缺失值标识\n",
    "\n",
    "# base_data.drop(['id'], axis=1, inplace=True)  # preprocess: 删除冗余字段\n",
    "# show_desc(base_data, detail=False)\n",
    "base_data = base_data.drop_duplicates().reset_index(drop=True) # preprocess2: 特征+标签去重，不包括ID。\n",
    "print(base_data.shape)\n",
    "\n",
    "# base_data[total_feats] = base_data[total_feats].apply(capping) # preprocess: 异常值处理\n",
    "\n",
    "print(base_data['target'].value_counts()/base_data['target'].value_counts().sum())\n",
    "desc_df = show_desc(base_data, detail=True)\n",
    "# desc_df.to_excel(to_dir+'desc_df.xlsx')"
   ]
  },
  {
   "cell_type": "code",
   "execution_count": 5,
   "metadata": {},
   "outputs": [
    {
     "name": "stdout",
     "output_type": "stream",
     "text": [
      "['status_account', 'duration', 'credit_history', 'purpose', 'amount', 'svaing_account', 'present_emp', 'income_rate', 'personal_status', 'other_debtors', 'residence_info', 'property', 'age', 'inst_plans', 'housing', 'num_credits', 'job', 'dependents', 'telephone', 'foreign_worker']\n",
      "['status_account', 'credit_history', 'purpose', 'svaing_account', 'present_emp', 'personal_status', 'other_debtors', 'property', 'inst_plans', 'housing', 'job', 'telephone', 'foreign_worker']\n"
     ]
    }
   ],
   "source": [
    "total_feats = base_data.columns.to_list()\n",
    "total_feats.remove('target')\n",
    "ordered_category = base_data.select_dtypes('object').columns.to_list() # 有序类别特征\n",
    "unordered_category = [] # 无序类别特征\n",
    "print(total_feats)\n",
    "print(ordered_category)"
   ]
  },
  {
   "cell_type": "code",
   "execution_count": 6,
   "metadata": {},
   "outputs": [],
   "source": [
    "from sklearn.preprocessing import OrdinalEncoder\n",
    "\n",
    "status_account = ['A11', 'A12', 'A13', 'A14']\n",
    "credit_history = ['A30', 'A31', 'A32', 'A33', 'A34']\n",
    "purpose = ['A40', 'A41', 'A42', 'A43', 'A44', 'A45', 'A46', 'A48', 'A49', 'A410']\n",
    "svaing_account = ['A61', 'A62', 'A63', 'A64', 'A65']\n",
    "present_emp = ['A71', 'A72', 'A73', 'A74', 'A75']\n",
    "personal_status = ['A91', 'A92', 'A93', 'A94']\n",
    "other_debtors = ['A101', 'A102', 'A103']\n",
    "property = ['A121', 'A122', 'A123', 'A124']\n",
    "inst_plans = ['A141', 'A142', 'A143']\n",
    "housing = ['A151', 'A152', 'A153']\n",
    "job = ['A171', 'A172', 'A173', 'A174']\n",
    "telephone = ['A191', 'A192']\n",
    "foreign_worker = ['A201', 'A202']\n",
    "categories=[status_account,credit_history,purpose,svaing_account,present_emp,personal_status,other_debtors,property,inst_plans,housing,job,telephone,foreign_worker]\n",
    "\n",
    "enc = OrdinalEncoder(categories=categories) \n",
    "enc.fit(base_data[ordered_category])\n",
    "\n",
    "base_data[ordered_category] = enc.transform(base_data[ordered_category])"
   ]
  },
  {
   "cell_type": "code",
   "execution_count": 7,
   "metadata": {},
   "outputs": [
    {
     "name": "stdout",
     "output_type": "stream",
     "text": [
      "选择缺失值占比小于0.9且最大单一值占比小于0.99的特征：20个。剔除变量0个。\n",
      "选择分箱后IV大于等于0.01的特征：14个。剔除变量6个。\n",
      "选择相关系数小于等于0.8的特征：14个。剔除变量0个。\n",
      "选择PSI小于等于0.1的特征：14个。剔除变量0个。\n",
      "选择VIF小于等于10的特征：14个。剔除变量0个。\n"
     ]
    }
   ],
   "source": [
    "feat_selector = feature_select(base_data, total_feats, 'target', bins=20)\n",
    "feat_selector._filter_by_desc(missing=0.9, freq=0.99)\n",
    "feat_selector.bins_and_iv(cont_bin='tree', dist_bin='value')\n",
    "feat_selector._filter_by_bins_iv(iv_filter=0.01)\n",
    "feat_selector._filter_by_corr()\n",
    "feat_selector._filter_by_psi()\n",
    "feat_selector._filter_by_vif()"
   ]
  },
  {
   "cell_type": "code",
   "execution_count": 8,
   "metadata": {},
   "outputs": [
    {
     "data": {
      "text/html": [
       "<div>\n",
       "<style scoped>\n",
       "    .dataframe tbody tr th:only-of-type {\n",
       "        vertical-align: middle;\n",
       "    }\n",
       "\n",
       "    .dataframe tbody tr th {\n",
       "        vertical-align: top;\n",
       "    }\n",
       "\n",
       "    .dataframe thead th {\n",
       "        text-align: right;\n",
       "    }\n",
       "</style>\n",
       "<table border=\"1\" class=\"dataframe\">\n",
       "  <thead>\n",
       "    <tr style=\"text-align: right;\">\n",
       "      <th></th>\n",
       "      <th>index</th>\n",
       "      <th>feature</th>\n",
       "      <th>bin</th>\n",
       "      <th>bin_low</th>\n",
       "      <th>bin_up</th>\n",
       "      <th>total</th>\n",
       "      <th>bad</th>\n",
       "      <th>good</th>\n",
       "      <th>bad_rate</th>\n",
       "      <th>cum_total</th>\n",
       "      <th>cum_bad</th>\n",
       "      <th>lift</th>\n",
       "      <th>bad%</th>\n",
       "      <th>good%</th>\n",
       "      <th>woe</th>\n",
       "      <th>iv</th>\n",
       "    </tr>\n",
       "  </thead>\n",
       "  <tbody>\n",
       "    <tr>\n",
       "      <th>13</th>\n",
       "      <td>0</td>\n",
       "      <td>credit_history</td>\n",
       "      <td>(-inf, 1.5]</td>\n",
       "      <td>-inf</td>\n",
       "      <td>1.5</td>\n",
       "      <td>60</td>\n",
       "      <td>35</td>\n",
       "      <td>25</td>\n",
       "      <td>0.583333</td>\n",
       "      <td>60</td>\n",
       "      <td>35</td>\n",
       "      <td>1.991870</td>\n",
       "      <td>0.170732</td>\n",
       "      <td>0.050505</td>\n",
       "      <td>-1.218020</td>\n",
       "      <td>0.146438</td>\n",
       "    </tr>\n",
       "    <tr>\n",
       "      <th>14</th>\n",
       "      <td>1</td>\n",
       "      <td>credit_history</td>\n",
       "      <td>(1.5, 2.5]</td>\n",
       "      <td>1.5</td>\n",
       "      <td>2.5</td>\n",
       "      <td>380</td>\n",
       "      <td>115</td>\n",
       "      <td>265</td>\n",
       "      <td>0.302632</td>\n",
       "      <td>440</td>\n",
       "      <td>150</td>\n",
       "      <td>1.164080</td>\n",
       "      <td>0.560976</td>\n",
       "      <td>0.535354</td>\n",
       "      <td>-0.046750</td>\n",
       "      <td>0.001198</td>\n",
       "    </tr>\n",
       "    <tr>\n",
       "      <th>15</th>\n",
       "      <td>2</td>\n",
       "      <td>credit_history</td>\n",
       "      <td>(2.5, 3.5]</td>\n",
       "      <td>2.5</td>\n",
       "      <td>3.5</td>\n",
       "      <td>64</td>\n",
       "      <td>22</td>\n",
       "      <td>42</td>\n",
       "      <td>0.343750</td>\n",
       "      <td>504</td>\n",
       "      <td>172</td>\n",
       "      <td>1.165312</td>\n",
       "      <td>0.107317</td>\n",
       "      <td>0.084848</td>\n",
       "      <td>-0.234921</td>\n",
       "      <td>0.005278</td>\n",
       "    </tr>\n",
       "    <tr>\n",
       "      <th>16</th>\n",
       "      <td>3</td>\n",
       "      <td>credit_history</td>\n",
       "      <td>(3.5, inf]</td>\n",
       "      <td>3.5</td>\n",
       "      <td>inf</td>\n",
       "      <td>196</td>\n",
       "      <td>33</td>\n",
       "      <td>163</td>\n",
       "      <td>0.168367</td>\n",
       "      <td>700</td>\n",
       "      <td>205</td>\n",
       "      <td>1.000000</td>\n",
       "      <td>0.160976</td>\n",
       "      <td>0.329293</td>\n",
       "      <td>0.715695</td>\n",
       "      <td>0.120464</td>\n",
       "    </tr>\n",
       "  </tbody>\n",
       "</table>\n",
       "</div>"
      ],
      "text/plain": [
       "    index         feature          bin  bin_low  bin_up  total  bad  good  \\\n",
       "13      0  credit_history  (-inf, 1.5]     -inf     1.5     60   35    25   \n",
       "14      1  credit_history   (1.5, 2.5]      1.5     2.5    380  115   265   \n",
       "15      2  credit_history   (2.5, 3.5]      2.5     3.5     64   22    42   \n",
       "16      3  credit_history   (3.5, inf]      3.5     inf    196   33   163   \n",
       "\n",
       "    bad_rate  cum_total  cum_bad      lift      bad%     good%       woe  \\\n",
       "13  0.583333         60       35  1.991870  0.170732  0.050505 -1.218020   \n",
       "14  0.302632        440      150  1.164080  0.560976  0.535354 -0.046750   \n",
       "15  0.343750        504      172  1.165312  0.107317  0.084848 -0.234921   \n",
       "16  0.168367        700      205  1.000000  0.160976  0.329293  0.715695   \n",
       "\n",
       "          iv  \n",
       "13  0.146438  \n",
       "14  0.001198  \n",
       "15  0.005278  \n",
       "16  0.120464  "
      ]
     },
     "execution_count": 8,
     "metadata": {},
     "output_type": "execute_result"
    }
   ],
   "source": [
    "from utils.rule_set import generate_single_rules,generate_multi_rules\n",
    "generate_single_rules(feat_selector.bin_iv_woe_df.copy(), lift=1.8)"
   ]
  },
  {
   "cell_type": "code",
   "execution_count": 14,
   "metadata": {},
   "outputs": [
    {
     "name": "stdout",
     "output_type": "stream",
     "text": [
      "Fitting 3 folds for each of 3 candidates, totalling 9 fits\n",
      "[CV] END class_weight=balanced, max_depth=2, min_samples_leaf=0.05; total time=   0.0s\n",
      "[CV] END class_weight=balanced, max_depth=2, min_samples_leaf=0.05; total time=   0.0s\n",
      "[CV] END class_weight=balanced, max_depth=2, min_samples_leaf=0.05; total time=   0.0s\n",
      "[CV] END class_weight=balanced, max_depth=3, min_samples_leaf=0.05; total time=   0.0s\n",
      "[CV] END class_weight=balanced, max_depth=3, min_samples_leaf=0.05; total time=   0.0s\n",
      "[CV] END class_weight=balanced, max_depth=3, min_samples_leaf=0.05; total time=   0.0s\n",
      "[CV] END class_weight=balanced, max_depth=4, min_samples_leaf=0.05; total time=   0.0s\n",
      "[CV] END class_weight=balanced, max_depth=4, min_samples_leaf=0.05; total time=   0.0s\n",
      "[CV] END class_weight=balanced, max_depth=4, min_samples_leaf=0.05; total time=   0.0s\n",
      "决策树模型最优得分 0.5448751628825054,\n",
      "最优参数{'class_weight': 'balanced', 'max_depth': 2, 'min_samples_leaf': 0.05}\n"
     ]
    }
   ],
   "source": [
    "# 基于较高lift或bad_rate的U型变量，所构造的决策树\n",
    "cand_models = [DecisionTreeClassifier]\n",
    "auto_model = AutoMachineLearning(base_data, feat_selector.feats, 'target', cand_models)\n",
    "tree_model = auto_model.main_search()"
   ]
  },
  {
   "attachments": {},
   "cell_type": "markdown",
   "metadata": {},
   "source": [
    "* 70%的浓度，对应gini指数为: 1-(0.7的平方+0.3的平方)=0.42；\n",
    "* 80%的浓度，对应gini指数为: 1-(0.8的平方+0.2的平方)=0.32；\n",
    "* 90%的浓度，对应gini指数为: 1-(0.9的平方+0.1的平方)=0.18；\n",
    "* 95%的浓度，对应gini指数为: 1-(0.95的平方+0.05的平方)=0.095；"
   ]
  },
  {
   "cell_type": "code",
   "execution_count": 24,
   "metadata": {},
   "outputs": [
    {
     "name": "stdout",
     "output_type": "stream",
     "text": [
      "[['(status_account <= 2.5)', '(other_debtors <= 1.5)', (array([[183.4797891 , 332.46753247]]), 453, 0.4583072670282109)], ['(status_account <= 2.5)', '(other_debtors > 1.5)', (array([[21.08963093,  6.92640693]]), 34, 0.3722147222936518)], ['(status_account > 2.5)', '(inst_plans <= 0.5)', (array([[19.68365554, 20.77922078]]), 40, 0.49963345019484096)], ['(status_account > 2.5)', '(inst_plans > 0.5)', (array([[175.74692443,  39.82683983]]), 273, 0.301232458448335)]]\n",
      "决策树规则总数： 4\n",
      "抽取gini指数小于 0.42 的规则，共 2 条:\n"
     ]
    },
    {
     "data": {
      "text/plain": [
       "['if (status_account > 2.5) and (inst_plans > 0.5) then class: good (proba: 81.53, sample_cnt: 273)',\n",
       " 'if (status_account <= 2.5) and (other_debtors > 1.5) then class: good (proba: 75.28, sample_cnt: 34)']"
      ]
     },
     "execution_count": 24,
     "metadata": {},
     "output_type": "execute_result"
    }
   ],
   "source": [
    "gini_threshold=0.42\n",
    "multi_rules = generate_multi_rules(tree_model, feat_selector.feats, class_names=['good','bad'], threshold=gini_threshold)\n",
    "print(\"决策树规则总数：\",tree_model.tree_.n_leaves)\n",
    "print(\"抽取gini指数小于 {0} 的规则，共 {1} 条:\".format(gini_threshold, len(multi_rules)))\n",
    "multi_rules"
   ]
  },
  {
   "cell_type": "code",
   "execution_count": 21,
   "metadata": {},
   "outputs": [],
   "source": [
    "# 决策树模型可视化\n",
    "import os\n",
    "from graphviz import Source\n",
    "from sklearn.tree import export_graphviz,export_text\n",
    "\n",
    "IMAGES_PATH = os.path.join(to_dir, \"images\")\n",
    "os.makedirs(IMAGES_PATH, exist_ok=True)"
   ]
  },
  {
   "cell_type": "code",
   "execution_count": 22,
   "metadata": {},
   "outputs": [
    {
     "data": {
      "image/svg+xml": "<?xml version=\"1.0\" encoding=\"UTF-8\" standalone=\"no\"?>\n<!DOCTYPE svg PUBLIC \"-//W3C//DTD SVG 1.1//EN\"\n \"http://www.w3.org/Graphics/SVG/1.1/DTD/svg11.dtd\">\n<!-- Generated by graphviz version 2.50.0 (0)\n -->\n<!-- Title: Tree Pages: 1 -->\n<svg width=\"721pt\" height=\"314pt\"\n viewBox=\"0.00 0.00 721.00 314.00\" xmlns=\"http://www.w3.org/2000/svg\" xmlns:xlink=\"http://www.w3.org/1999/xlink\">\n<g id=\"graph0\" class=\"graph\" transform=\"scale(1 1) rotate(0) translate(4 310)\">\n<title>Tree</title>\n<polygon fill=\"white\" stroke=\"transparent\" points=\"-4,4 -4,-310 717,-310 717,4 -4,4\"/>\n<!-- 0 -->\n<g id=\"node1\" class=\"node\">\n<title>0</title>\n<path fill=\"#ffffff\" stroke=\"black\" d=\"M416,-306C416,-306 290,-306 290,-306 284,-306 278,-300 278,-294 278,-294 278,-235 278,-235 278,-229 284,-223 290,-223 290,-223 416,-223 416,-223 422,-223 428,-229 428,-235 428,-235 428,-294 428,-294 428,-300 422,-306 416,-306\"/>\n<text text-anchor=\"middle\" x=\"353\" y=\"-290.8\" font-family=\"Helvetica,sans-Serif\" font-size=\"14.00\">status_account &lt;= 2.5</text>\n<text text-anchor=\"middle\" x=\"353\" y=\"-275.8\" font-family=\"Helvetica,sans-Serif\" font-size=\"14.00\">gini = 0.5</text>\n<text text-anchor=\"middle\" x=\"353\" y=\"-260.8\" font-family=\"Helvetica,sans-Serif\" font-size=\"14.00\">samples = 800</text>\n<text text-anchor=\"middle\" x=\"353\" y=\"-245.8\" font-family=\"Helvetica,sans-Serif\" font-size=\"14.00\">value = [400.0, 400.0]</text>\n<text text-anchor=\"middle\" x=\"353\" y=\"-230.8\" font-family=\"Helvetica,sans-Serif\" font-size=\"14.00\">class = y[1]</text>\n</g>\n<!-- 1 -->\n<g id=\"node2\" class=\"node\">\n<title>1</title>\n<path fill=\"#b0d8f5\" stroke=\"black\" d=\"M333.5,-187C333.5,-187 180.5,-187 180.5,-187 174.5,-187 168.5,-181 168.5,-175 168.5,-175 168.5,-116 168.5,-116 168.5,-110 174.5,-104 180.5,-104 180.5,-104 333.5,-104 333.5,-104 339.5,-104 345.5,-110 345.5,-116 345.5,-116 345.5,-175 345.5,-175 345.5,-181 339.5,-187 333.5,-187\"/>\n<text text-anchor=\"middle\" x=\"257\" y=\"-171.8\" font-family=\"Helvetica,sans-Serif\" font-size=\"14.00\">other_debtors &lt;= 1.5</text>\n<text text-anchor=\"middle\" x=\"257\" y=\"-156.8\" font-family=\"Helvetica,sans-Serif\" font-size=\"14.00\">gini = 0.469</text>\n<text text-anchor=\"middle\" x=\"257\" y=\"-141.8\" font-family=\"Helvetica,sans-Serif\" font-size=\"14.00\">samples = 487</text>\n<text text-anchor=\"middle\" x=\"257\" y=\"-126.8\" font-family=\"Helvetica,sans-Serif\" font-size=\"14.00\">value = [204.569, 339.394]</text>\n<text text-anchor=\"middle\" x=\"257\" y=\"-111.8\" font-family=\"Helvetica,sans-Serif\" font-size=\"14.00\">class = y[1]</text>\n</g>\n<!-- 0&#45;&gt;1 -->\n<g id=\"edge1\" class=\"edge\">\n<title>0&#45;&gt;1</title>\n<path fill=\"none\" stroke=\"black\" d=\"M319.69,-222.91C312.25,-213.83 304.28,-204.12 296.61,-194.77\"/>\n<polygon fill=\"black\" stroke=\"black\" points=\"299.3,-192.53 290.25,-187.02 293.89,-196.97 299.3,-192.53\"/>\n<text text-anchor=\"middle\" x=\"287.79\" y=\"-208.2\" font-family=\"Helvetica,sans-Serif\" font-size=\"14.00\">True</text>\n</g>\n<!-- 4 -->\n<g id=\"node5\" class=\"node\">\n<title>4</title>\n<path fill=\"#eda876\" stroke=\"black\" d=\"M522,-187C522,-187 376,-187 376,-187 370,-187 364,-181 364,-175 364,-175 364,-116 364,-116 364,-110 370,-104 376,-104 376,-104 522,-104 522,-104 528,-104 534,-110 534,-116 534,-116 534,-175 534,-175 534,-181 528,-187 522,-187\"/>\n<text text-anchor=\"middle\" x=\"449\" y=\"-171.8\" font-family=\"Helvetica,sans-Serif\" font-size=\"14.00\">inst_plans &lt;= 0.5</text>\n<text text-anchor=\"middle\" x=\"449\" y=\"-156.8\" font-family=\"Helvetica,sans-Serif\" font-size=\"14.00\">gini = 0.361</text>\n<text text-anchor=\"middle\" x=\"449\" y=\"-141.8\" font-family=\"Helvetica,sans-Serif\" font-size=\"14.00\">samples = 313</text>\n<text text-anchor=\"middle\" x=\"449\" y=\"-126.8\" font-family=\"Helvetica,sans-Serif\" font-size=\"14.00\">value = [195.431, 60.606]</text>\n<text text-anchor=\"middle\" x=\"449\" y=\"-111.8\" font-family=\"Helvetica,sans-Serif\" font-size=\"14.00\">class = y[0]</text>\n</g>\n<!-- 0&#45;&gt;4 -->\n<g id=\"edge4\" class=\"edge\">\n<title>0&#45;&gt;4</title>\n<path fill=\"none\" stroke=\"black\" d=\"M386.31,-222.91C393.75,-213.83 401.72,-204.12 409.39,-194.77\"/>\n<polygon fill=\"black\" stroke=\"black\" points=\"412.11,-196.97 415.75,-187.02 406.7,-192.53 412.11,-196.97\"/>\n<text text-anchor=\"middle\" x=\"418.21\" y=\"-208.2\" font-family=\"Helvetica,sans-Serif\" font-size=\"14.00\">False</text>\n</g>\n<!-- 2 -->\n<g id=\"node3\" class=\"node\">\n<title>2</title>\n<path fill=\"#a6d3f3\" stroke=\"black\" d=\"M158,-68C158,-68 12,-68 12,-68 6,-68 0,-62 0,-56 0,-56 0,-12 0,-12 0,-6 6,0 12,0 12,0 158,0 158,0 164,0 170,-6 170,-12 170,-12 170,-56 170,-56 170,-62 164,-68 158,-68\"/>\n<text text-anchor=\"middle\" x=\"85\" y=\"-52.8\" font-family=\"Helvetica,sans-Serif\" font-size=\"14.00\">gini = 0.458</text>\n<text text-anchor=\"middle\" x=\"85\" y=\"-37.8\" font-family=\"Helvetica,sans-Serif\" font-size=\"14.00\">samples = 453</text>\n<text text-anchor=\"middle\" x=\"85\" y=\"-22.8\" font-family=\"Helvetica,sans-Serif\" font-size=\"14.00\">value = [183.48, 332.468]</text>\n<text text-anchor=\"middle\" x=\"85\" y=\"-7.8\" font-family=\"Helvetica,sans-Serif\" font-size=\"14.00\">class = y[1]</text>\n</g>\n<!-- 1&#45;&gt;2 -->\n<g id=\"edge2\" class=\"edge\">\n<title>1&#45;&gt;2</title>\n<path fill=\"none\" stroke=\"black\" d=\"M192.95,-103.73C177.54,-93.92 161.13,-83.46 145.87,-73.75\"/>\n<polygon fill=\"black\" stroke=\"black\" points=\"147.35,-70.54 137.03,-68.13 143.59,-76.45 147.35,-70.54\"/>\n</g>\n<!-- 3 -->\n<g id=\"node4\" class=\"node\">\n<title>3</title>\n<path fill=\"#eeaa7a\" stroke=\"black\" d=\"M323.5,-68C323.5,-68 200.5,-68 200.5,-68 194.5,-68 188.5,-62 188.5,-56 188.5,-56 188.5,-12 188.5,-12 188.5,-6 194.5,0 200.5,0 200.5,0 323.5,0 323.5,0 329.5,0 335.5,-6 335.5,-12 335.5,-12 335.5,-56 335.5,-56 335.5,-62 329.5,-68 323.5,-68\"/>\n<text text-anchor=\"middle\" x=\"262\" y=\"-52.8\" font-family=\"Helvetica,sans-Serif\" font-size=\"14.00\">gini = 0.372</text>\n<text text-anchor=\"middle\" x=\"262\" y=\"-37.8\" font-family=\"Helvetica,sans-Serif\" font-size=\"14.00\">samples = 34</text>\n<text text-anchor=\"middle\" x=\"262\" y=\"-22.8\" font-family=\"Helvetica,sans-Serif\" font-size=\"14.00\">value = [21.09, 6.926]</text>\n<text text-anchor=\"middle\" x=\"262\" y=\"-7.8\" font-family=\"Helvetica,sans-Serif\" font-size=\"14.00\">class = y[0]</text>\n</g>\n<!-- 1&#45;&gt;3 -->\n<g id=\"edge3\" class=\"edge\">\n<title>1&#45;&gt;3</title>\n<path fill=\"none\" stroke=\"black\" d=\"M258.86,-103.73C259.24,-95.52 259.63,-86.86 260.01,-78.56\"/>\n<polygon fill=\"black\" stroke=\"black\" points=\"263.52,-78.45 260.48,-68.3 256.53,-78.13 263.52,-78.45\"/>\n</g>\n<!-- 5 -->\n<g id=\"node6\" class=\"node\">\n<title>5</title>\n<path fill=\"#f5fafe\" stroke=\"black\" d=\"M513,-68C513,-68 375,-68 375,-68 369,-68 363,-62 363,-56 363,-56 363,-12 363,-12 363,-6 369,0 375,0 375,0 513,0 513,0 519,0 525,-6 525,-12 525,-12 525,-56 525,-56 525,-62 519,-68 513,-68\"/>\n<text text-anchor=\"middle\" x=\"444\" y=\"-52.8\" font-family=\"Helvetica,sans-Serif\" font-size=\"14.00\">gini = 0.5</text>\n<text text-anchor=\"middle\" x=\"444\" y=\"-37.8\" font-family=\"Helvetica,sans-Serif\" font-size=\"14.00\">samples = 40</text>\n<text text-anchor=\"middle\" x=\"444\" y=\"-22.8\" font-family=\"Helvetica,sans-Serif\" font-size=\"14.00\">value = [19.684, 20.779]</text>\n<text text-anchor=\"middle\" x=\"444\" y=\"-7.8\" font-family=\"Helvetica,sans-Serif\" font-size=\"14.00\">class = y[1]</text>\n</g>\n<!-- 4&#45;&gt;5 -->\n<g id=\"edge5\" class=\"edge\">\n<title>4&#45;&gt;5</title>\n<path fill=\"none\" stroke=\"black\" d=\"M447.14,-103.73C446.76,-95.52 446.37,-86.86 445.99,-78.56\"/>\n<polygon fill=\"black\" stroke=\"black\" points=\"449.47,-78.13 445.52,-68.3 442.48,-78.45 449.47,-78.13\"/>\n</g>\n<!-- 6 -->\n<g id=\"node7\" class=\"node\">\n<title>6</title>\n<path fill=\"#eb9e66\" stroke=\"black\" d=\"M701,-68C701,-68 555,-68 555,-68 549,-68 543,-62 543,-56 543,-56 543,-12 543,-12 543,-6 549,0 555,0 555,0 701,0 701,0 707,0 713,-6 713,-12 713,-12 713,-56 713,-56 713,-62 707,-68 701,-68\"/>\n<text text-anchor=\"middle\" x=\"628\" y=\"-52.8\" font-family=\"Helvetica,sans-Serif\" font-size=\"14.00\">gini = 0.301</text>\n<text text-anchor=\"middle\" x=\"628\" y=\"-37.8\" font-family=\"Helvetica,sans-Serif\" font-size=\"14.00\">samples = 273</text>\n<text text-anchor=\"middle\" x=\"628\" y=\"-22.8\" font-family=\"Helvetica,sans-Serif\" font-size=\"14.00\">value = [175.747, 39.827]</text>\n<text text-anchor=\"middle\" x=\"628\" y=\"-7.8\" font-family=\"Helvetica,sans-Serif\" font-size=\"14.00\">class = y[0]</text>\n</g>\n<!-- 4&#45;&gt;6 -->\n<g id=\"edge6\" class=\"edge\">\n<title>4&#45;&gt;6</title>\n<path fill=\"none\" stroke=\"black\" d=\"M515.4,-103.88C531.68,-93.92 549.07,-83.29 565.18,-73.43\"/>\n<polygon fill=\"black\" stroke=\"black\" points=\"567.28,-76.25 573.98,-68.04 563.63,-70.28 567.28,-76.25\"/>\n</g>\n</g>\n</svg>\n",
      "text/plain": [
       "<graphviz.sources.Source at 0x7f86190c6400>"
      ]
     },
     "execution_count": 22,
     "metadata": {},
     "output_type": "execute_result"
    }
   ],
   "source": [
    "# 1.可视化输出\n",
    "out_file = os.path.join(IMAGES_PATH, \"Credit_tree.dot\")\n",
    "export_graphviz(\n",
    "        tree_model,\n",
    "        out_file=out_file, # 输出决策树文档，为制图做准备\n",
    "        feature_names=feat_selector.feats,\n",
    "        # class_names=['good','bad'],\n",
    "        class_names=True,\n",
    "        rounded=True,\n",
    "        filled=True\n",
    "    )\n",
    "Source.from_file(out_file)"
   ]
  },
  {
   "cell_type": "code",
   "execution_count": 29,
   "metadata": {},
   "outputs": [
    {
     "data": {
      "text/plain": [
       "3.0    394\n",
       "0.0    274\n",
       "1.0    269\n",
       "2.0     63\n",
       "Name: status_account, dtype: int64"
      ]
     },
     "execution_count": 29,
     "metadata": {},
     "output_type": "execute_result"
    }
   ],
   "source": [
    "base_data['status_account'].value_counts()"
   ]
  },
  {
   "cell_type": "code",
   "execution_count": 23,
   "metadata": {},
   "outputs": [
    {
     "name": "stdout",
     "output_type": "stream",
     "text": [
      "def predict(age, amount, credit_history, duration, housing, income_rate, inst_plans, other_debtors, personal_status, present_emp, property, purpose, status_account, svaing_account):\n",
      "  if status_account <= 2.5:\n",
      "    if other_debtors <= 1.5:\n",
      "      return [[183.4797891  332.46753247]]\n",
      "    else:  # if other_debtors > 1.5\n",
      "      return [[21.08963093  6.92640693]]\n",
      "  else:  # if status_account > 2.5\n",
      "    if inst_plans <= 0.5:\n",
      "      return [[19.68365554 20.77922078]]\n",
      "    else:  # if inst_plans > 0.5\n",
      "      return [[175.74692443  39.82683983]]\n"
     ]
    }
   ],
   "source": [
    "# 2.转为python代码输出\n",
    "from sklearn.tree import _tree\n",
    "\n",
    "def tree_to_code(tree, feature_names):\n",
    "    print(\"def predict({}):\".format(\", \".join(feature_names)))\n",
    "    tree_ = tree.tree_\n",
    "    feature_name = [\n",
    "        feature_names[i] if i != _tree.TREE_UNDEFINED else \"undefined!\"\n",
    "        for i in tree_.feature]\n",
    "    \n",
    "    def recurse(node, depth):\n",
    "        \"\"\"前序遍历树节点\"\"\"\n",
    "        indent = \"  \" * depth\n",
    "        if tree_.feature[node] != _tree.TREE_UNDEFINED: # 非叶节点\n",
    "            name = feature_name[node]\n",
    "            threshold = tree_.threshold[node]\n",
    "            print(\"{}if {} <= {}:\".format(indent, name, np.round(threshold,2)))\n",
    "            recurse(tree_.children_left[node], depth + 1)\n",
    "            print(\"{}else:  # if {} > {}\".format(indent, name, np.round(threshold,2)))\n",
    "            recurse(tree_.children_right[node], depth + 1)\n",
    "        else: # 叶节点\n",
    "            print(\"{}return {}\".format(indent, tree_.value[node]))\n",
    "\n",
    "    recurse(0, 1)\n",
    "\n",
    "tree_to_code(tree_model, feat_selector.feats)"
   ]
  }
 ],
 "metadata": {
  "kernelspec": {
   "display_name": "python38",
   "language": "python",
   "name": "python3"
  },
  "language_info": {
   "codemirror_mode": {
    "name": "ipython",
    "version": 3
   },
   "file_extension": ".py",
   "mimetype": "text/x-python",
   "name": "python",
   "nbconvert_exporter": "python",
   "pygments_lexer": "ipython3",
   "version": "3.8.13"
  },
  "orig_nbformat": 4,
  "vscode": {
   "interpreter": {
    "hash": "6ad5fccfddb969716546e6767f6f2f73625c9967c3821f1334984f088df51820"
   }
  }
 },
 "nbformat": 4,
 "nbformat_minor": 2
}
